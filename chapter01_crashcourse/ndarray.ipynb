{
 "cells": [
  {
   "cell_type": "markdown",
   "metadata": {
    "collapsed": true
   },
   "source": [
    "# Manipulate data the MXNet way with `ndarray`\n",
    "\n",
    "It's impossible to get anything done if we can't manipulate data. \n",
    "Generally, there are two important things we need to do with: \n",
    "(i) acquire it! and (ii) process it once it's inside the computer.\n",
    "There's no point in trying to acquire data if we don't even know how to store it,\n",
    "so let's get our hands dirty first by playing with synthetic data.\n",
    "\n",
    "We'll start by introducing NDArrays, MXNet's primary tool for storing and transforming data. If you've worked with NumPy before, you'll notice that NDArrays are, by design, similar to NumPy's multi-dimensional array. However, they confer a few key advantages. First, NDArrays support asynchronous computation on CPU, GPU, and distributed cloud architectures. Second, they provide support for automatic differentiation. These properties make NDArray an ideal library for machine learning, both for researchers and engineers launching production systems.\n",
    "\n",
    "\n",
    "## Getting started\n",
    "\n",
    "In this chapter, we'll get you going with the basic functionality. Don't worry if you don't understand any of the basic math, like element-wise operations or normal distributions. In the next two chapters we'll take another pass at NDArray, teaching you both the math you'll need and how to realize it in code.\n",
    "\n",
    "To get started, let's import `mxnet`. We'll also import `ndarray` from `mxnet` for convenience. We’ll make a habit of setting a random seed so that you always get the same results that we do."
   ]
  },
  {
   "cell_type": "code",
   "execution_count": 1,
   "metadata": {},
   "outputs": [],
   "source": [
    "import mxnet as mx\n",
    "from mxnet import nd\n",
    "mx.random.seed(1)"
   ]
  },
  {
   "cell_type": "markdown",
   "metadata": {},
   "source": [
    "Let's start with a very simple 1-dimensional array with a python list."
   ]
  },
  {
   "cell_type": "code",
   "execution_count": 2,
   "metadata": {},
   "outputs": [
    {
     "name": "stdout",
     "output_type": "stream",
     "text": [
      "\n",
      "[ 1.  2.  3.]\n",
      "<NDArray 3 @cpu(0)>\n"
     ]
    }
   ],
   "source": [
    "x = nd.array([1,2,3])\n",
    "print(x)"
   ]
  },
  {
   "cell_type": "markdown",
   "metadata": {},
   "source": [
    "Now a 2-dimensional array."
   ]
  },
  {
   "cell_type": "code",
   "execution_count": 3,
   "metadata": {},
   "outputs": [
    {
     "name": "stdout",
     "output_type": "stream",
     "text": [
      "\n",
      "[[ 1.  2.  3.  4.]\n",
      " [ 1.  2.  3.  4.]\n",
      " [ 1.  2.  3.  4.]]\n",
      "<NDArray 3x4 @cpu(0)>\n"
     ]
    }
   ],
   "source": [
    "y = nd.array([[1,2,3,4], [1,2,3,4], [1,2,3,4]])\n",
    "print(y)"
   ]
  },
  {
   "cell_type": "markdown",
   "metadata": {},
   "source": [
    "Next, let's see how to create an NDArray, without any values initialized. Specifically, we'll create a 2D array (also called a *matrix*) with 3 rows and 4 columns using the `.empty` function. We'll also try out `.full` which takes an additional parameter for what value you want to fill in the array."
   ]
  },
  {
   "cell_type": "code",
   "execution_count": 4,
   "metadata": {},
   "outputs": [
    {
     "name": "stdout",
     "output_type": "stream",
     "text": [
      "\n",
      "[[ 0.  0.  0.]\n",
      " [ 0.  0.  0.]\n",
      " [ 0.  0.  0.]]\n",
      "<NDArray 3x3 @cpu(0)>\n",
      "\n",
      "[[ 7.  7.  7.]\n",
      " [ 7.  7.  7.]\n",
      " [ 7.  7.  7.]]\n",
      "<NDArray 3x3 @cpu(0)>\n"
     ]
    }
   ],
   "source": [
    "x = nd.empty((3, 3))\n",
    "print(x)\n",
    "x = nd.full((3,3), 7)\n",
    "print(x)"
   ]
  },
  {
   "cell_type": "markdown",
   "metadata": {},
   "source": [
    "`empty` just grabs some memory and hands us back a matrix without setting the values of any of its entries. This means that the entries can have any form of values, including very big ones! Typically, we'll want our matrices initialized and very often we want a matrix of all zeros, so we can use the `.zeros` function. If you're feeling experimental, try one of the several [array creation functions](https://mxnet.incubator.apache.org/api/python/ndarray.html?highlight=random_normal#array-creation-routines).\n",
    "\n",
    "<!-- showing something different here (3,10) since the zeros may not produce anything different from empty... or use the two demonstrations to show something interesting or unique... when would I use one over the other?-->"
   ]
  },
  {
   "cell_type": "code",
   "execution_count": 5,
   "metadata": {},
   "outputs": [
    {
     "name": "stdout",
     "output_type": "stream",
     "text": [
      "\n",
      "[[ 0.  0.  0.  0.  0.  0.  0.  0.  0.  0.]\n",
      " [ 0.  0.  0.  0.  0.  0.  0.  0.  0.  0.]\n",
      " [ 0.  0.  0.  0.  0.  0.  0.  0.  0.  0.]]\n",
      "<NDArray 3x10 @cpu(0)>\n"
     ]
    }
   ],
   "source": [
    "x = nd.zeros((3, 10))\n",
    "print(x)"
   ]
  },
  {
   "cell_type": "markdown",
   "metadata": {},
   "source": [
    "Similarly, `ndarray` has a function to create a matrix of all ones aptly named [ones](https://mxnet.incubator.apache.org/api/python/ndarray.html?highlight=random_normal#mxnet.ndarray.ones)."
   ]
  },
  {
   "cell_type": "code",
   "execution_count": 6,
   "metadata": {},
   "outputs": [
    {
     "name": "stdout",
     "output_type": "stream",
     "text": [
      "\n",
      "[[ 1.  1.  1.  1.]\n",
      " [ 1.  1.  1.  1.]\n",
      " [ 1.  1.  1.  1.]]\n",
      "<NDArray 3x4 @cpu(0)>\n"
     ]
    }
   ],
   "source": [
    "x = nd.ones((3, 4))\n",
    "print(x)"
   ]
  },
  {
   "cell_type": "markdown",
   "metadata": {},
   "source": [
    "Often, we'll want to create arrays whose values are sampled randomly. This is especially common when we intend to use the array as a parameter in a neural network. In this snippet, we initialize with values drawn from a standard normal distribution with zero mean and unit variance using [random_normal](https://mxnet.incubator.apache.org/api/python/ndarray.html?highlight=random_normal#mxnet.ndarray.random_normal).\n",
    "\n",
    "<!-- Is it that important to introduce zero mean and unit variance right now? Describe more? Or how about explain which is which for the 0 and the 1 and what they're going to do... if it actually matters at this point. -->"
   ]
  },
  {
   "cell_type": "code",
   "execution_count": 7,
   "metadata": {},
   "outputs": [
    {
     "name": "stdout",
     "output_type": "stream",
     "text": [
      "\n",
      "[[ 0.03629481 -0.67765152 -0.49024421  0.10073948]\n",
      " [-0.95017916  0.57595438  0.03751944 -0.3469252 ]\n",
      " [-0.72984636 -0.22134334 -2.04010558 -1.80471897]]\n",
      "<NDArray 3x4 @cpu(0)>\n"
     ]
    }
   ],
   "source": [
    "y = nd.random_normal(0, 1, shape=(3, 4))\n",
    "print(y)"
   ]
  },
  {
   "cell_type": "markdown",
   "metadata": {},
   "source": [
    "Sometimes you will want to copy an array by its shape but not its contents. You can do this with `.zeros_like`."
   ]
  },
  {
   "cell_type": "code",
   "execution_count": 8,
   "metadata": {},
   "outputs": [
    {
     "name": "stdout",
     "output_type": "stream",
     "text": [
      "\n",
      "[[ 0.  0.  0.  0.]\n",
      " [ 0.  0.  0.  0.]\n",
      " [ 0.  0.  0.  0.]]\n",
      "<NDArray 3x4 @cpu(0)>\n"
     ]
    }
   ],
   "source": [
    "z = nd.zeros_like(y)\n",
    "print(z)"
   ]
  },
  {
   "cell_type": "markdown",
   "metadata": {},
   "source": [
    "As in NumPy, the dimensions of each NDArray are accessible via the `.shape` attribute."
   ]
  },
  {
   "cell_type": "code",
   "execution_count": 9,
   "metadata": {},
   "outputs": [
    {
     "data": {
      "text/plain": [
       "(3, 4)"
      ]
     },
     "execution_count": 9,
     "metadata": {},
     "output_type": "execute_result"
    }
   ],
   "source": [
    "y.shape"
   ]
  },
  {
   "cell_type": "markdown",
   "metadata": {},
   "source": [
    "We can also query its `.size`, which is equal to the product of the components of the shape. Together with the precision of the stored values, this tells us how much memory the array occupies.\n",
    "<!-- is there a function for that or do you just do it manually? Should we show that? -->"
   ]
  },
  {
   "cell_type": "code",
   "execution_count": 10,
   "metadata": {},
   "outputs": [
    {
     "data": {
      "text/plain": [
       "12"
      ]
     },
     "execution_count": 10,
     "metadata": {},
     "output_type": "execute_result"
    }
   ],
   "source": [
    "y.size"
   ]
  },
  {
   "cell_type": "markdown",
   "metadata": {},
   "source": [
    "We can query the data type using `.dtype`."
   ]
  },
  {
   "cell_type": "code",
   "execution_count": 11,
   "metadata": {},
   "outputs": [
    {
     "data": {
      "text/plain": [
       "numpy.float32"
      ]
     },
     "execution_count": 11,
     "metadata": {},
     "output_type": "execute_result"
    }
   ],
   "source": [
    "y.dtype"
   ]
  },
  {
   "cell_type": "markdown",
   "metadata": {},
   "source": [
    "`float32` is the default data type. Performance can be improved with less precision, or you might want to use a different data type. You can force the data type when you create the array using a numpy type. This requires you to import numpy first."
   ]
  },
  {
   "cell_type": "code",
   "execution_count": 12,
   "metadata": {},
   "outputs": [
    {
     "data": {
      "text/plain": [
       "(numpy.float32, numpy.int32, numpy.float16)"
      ]
     },
     "execution_count": 12,
     "metadata": {},
     "output_type": "execute_result"
    }
   ],
   "source": [
    "import numpy as np\n",
    "a = nd.array([1,2,3])\n",
    "b = nd.array([1,2,3], dtype=np.int32)\n",
    "c = nd.array([1.2, 2.3], dtype=np.float16)\n",
    "(a.dtype, b.dtype, c.dtype)"
   ]
  },
  {
   "cell_type": "markdown",
   "metadata": {},
   "source": [
    "As you will come to learn in detail later, operations and memory storage will happen on specific devices that you can set. You can compute on the CPU, GPU, a specific GPU, or all of the above depending on your situtation and preference. Using `.context` reveals the location of the variable."
   ]
  },
  {
   "cell_type": "code",
   "execution_count": 13,
   "metadata": {},
   "outputs": [
    {
     "data": {
      "text/plain": [
       "cpu(0)"
      ]
     },
     "execution_count": 13,
     "metadata": {},
     "output_type": "execute_result"
    }
   ],
   "source": [
    "y.context"
   ]
  },
  {
   "cell_type": "markdown",
   "metadata": {},
   "source": [
    "## Operations\n",
    "\n",
    "NDArray supports a large number of standard mathematical operations. Such as element-wise addition:\n",
    "<!-- keeping it easy -->"
   ]
  },
  {
   "cell_type": "code",
   "execution_count": 14,
   "metadata": {},
   "outputs": [
    {
     "name": "stdout",
     "output_type": "stream",
     "text": [
      "x= \n",
      "[[ 1.  1.  1.  1.]\n",
      " [ 1.  1.  1.  1.]\n",
      " [ 1.  1.  1.  1.]]\n",
      "<NDArray 3x4 @cpu(0)>\n",
      "y= \n",
      "[[ 0.03629481 -0.67765152 -0.49024421  0.10073948]\n",
      " [-0.95017916  0.57595438  0.03751944 -0.3469252 ]\n",
      " [-0.72984636 -0.22134334 -2.04010558 -1.80471897]]\n",
      "<NDArray 3x4 @cpu(0)>\n",
      "x = x + y, x= \n",
      "[[ 1.03629482  0.32234848  0.50975579  1.10073948]\n",
      " [ 0.04982084  1.57595444  1.03751945  0.6530748 ]\n",
      " [ 0.27015364  0.77865666 -1.04010558 -0.80471897]]\n",
      "<NDArray 3x4 @cpu(0)>\n"
     ]
    }
   ],
   "source": [
    "print('x=', x)\n",
    "print('y=', y)\n",
    "x = x + y\n",
    "print('x = x + y, x=', x)"
   ]
  },
  {
   "cell_type": "markdown",
   "metadata": {},
   "source": [
    "Multiplication:"
   ]
  },
  {
   "cell_type": "code",
   "execution_count": 15,
   "metadata": {},
   "outputs": [
    {
     "data": {
      "text/plain": [
       "\n",
       "[ 2.  4.  6.]\n",
       "<NDArray 3 @cpu(0)>"
      ]
     },
     "execution_count": 15,
     "metadata": {},
     "output_type": "execute_result"
    }
   ],
   "source": [
    "x = nd.array([1, 2, 3])\n",
    "y = nd.array([2, 2, 2])\n",
    "x * y"
   ]
  },
  {
   "cell_type": "markdown",
   "metadata": {},
   "source": [
    "And exponentiation:\n",
    "<!-- with these next ones we'll just have to take your word for it... -->"
   ]
  },
  {
   "cell_type": "code",
   "execution_count": 17,
   "metadata": {
    "scrolled": false
   },
   "outputs": [
    {
     "data": {
      "text/plain": [
       "\n",
       "[  2.71828175   7.38905621  20.08553696]\n",
       "<NDArray 3 @cpu(0)>"
      ]
     },
     "execution_count": 17,
     "metadata": {},
     "output_type": "execute_result"
    }
   ],
   "source": [
    "nd.exp(x)"
   ]
  },
  {
   "cell_type": "markdown",
   "metadata": {},
   "source": [
    "We can also grab a matrix's transpose to compute a proper matrix-matrix product.\n",
    "<!-- because we need to do that before we have coffee every day... and you know how those dirty, improper matrixeses can be... -->"
   ]
  },
  {
   "cell_type": "code",
   "execution_count": 18,
   "metadata": {},
   "outputs": [
    {
     "data": {
      "text/plain": [
       "\n",
       "[ 12.]\n",
       "<NDArray 1 @cpu(0)>"
      ]
     },
     "execution_count": 18,
     "metadata": {},
     "output_type": "execute_result"
    }
   ],
   "source": [
    "nd.dot(x, y.T)"
   ]
  },
  {
   "cell_type": "markdown",
   "metadata": {},
   "source": [
    "We'll explain these operations and present even more operators in the [linear algebra](P01-C03-linear-algebra.ipynb) chapter. But for now, we'll stick with the mechanics of working with NDArrays."
   ]
  },
  {
   "cell_type": "markdown",
   "metadata": {},
   "source": [
    "## In-place operations\n",
    "\n",
    "In the previous example, every time we ran an operation, we allocated new memory to host its results. For example, if we write `y = x + y`, we will dereference the matrix that `y` used to point to and instead point it at the newly allocated memory. We can show this using Python's `id()` function, which tells us precisely which object a variable refers to.\n",
    "\n",
    "<!-- dereference is something C++ people would know but everyone else... not so much. What's the point? ;) get it? Put it in more context as to why you care about this and why this is in front of so much other material. Seems like an optimization topic best suited for later...\n",
    "###edit### we just talked about this, so I have better context. Now I understand, but your new reader will not. This should be covered in much more detail, and quite possibily in its own notebook since I think it will help to show some gotchas like you mentioned verbally. I am still leaning toward delaying the introduction of this topic....-->"
   ]
  },
  {
   "cell_type": "code",
   "execution_count": 19,
   "metadata": {},
   "outputs": [
    {
     "name": "stdout",
     "output_type": "stream",
     "text": [
      "y= \n",
      "[ 2.  2.  2.]\n",
      "<NDArray 3 @cpu(0)>\n",
      "id(y): 4538672016\n",
      "after y=y+x, y= \n",
      "[ 3.  4.  5.]\n",
      "<NDArray 3 @cpu(0)>\n",
      "id(y): 4538673416\n"
     ]
    }
   ],
   "source": [
    "print('y=', y)\n",
    "print('id(y):', id(y))\n",
    "y = y + x\n",
    "print('after y=y+x, y=', y)\n",
    "print('id(y):', id(y))"
   ]
  },
  {
   "cell_type": "markdown",
   "metadata": {},
   "source": [
    "We can assign the result to a previously allocated array with slice notation, e.g., `result[:] = ...`."
   ]
  },
  {
   "cell_type": "code",
   "execution_count": 20,
   "metadata": {},
   "outputs": [
    {
     "name": "stdout",
     "output_type": "stream",
     "text": [
      "x= \n",
      "[ 1.  2.  3.]\n",
      "<NDArray 3 @cpu(0)>\n",
      "z is zeros_like x, z= \n",
      "[ 0.  0.  0.]\n",
      "<NDArray 3 @cpu(0)>\n",
      "id(z): 4538674648\n",
      "y= \n",
      "[ 3.  4.  5.]\n",
      "<NDArray 3 @cpu(0)>\n",
      "z[:] = x + y, z= \n",
      "[ 4.  6.  8.]\n",
      "<NDArray 3 @cpu(0)>\n",
      "id(z) is the same as before: 4538674648\n"
     ]
    }
   ],
   "source": [
    "print('x=', x)\n",
    "z = nd.zeros_like(x)\n",
    "print('z is zeros_like x, z=', z)\n",
    "print('id(z):', id(z))\n",
    "print('y=', y)\n",
    "z[:] = x + y\n",
    "print('z[:] = x + y, z=', z)\n",
    "print('id(z) is the same as before:', id(z))"
   ]
  },
  {
   "cell_type": "markdown",
   "metadata": {},
   "source": [
    "However, `x+y` here will still allocate a temporary buffer to store the result before copying it to z. To make better use of memory, we can perform operations in place, avoiding temporary buffers. To do this we specify the `out` keyword argument every operator supports:"
   ]
  },
  {
   "cell_type": "code",
   "execution_count": 21,
   "metadata": {},
   "outputs": [
    {
     "name": "stdout",
     "output_type": "stream",
     "text": [
      "x= \n",
      "[ 1.  2.  3.]\n",
      "<NDArray 3 @cpu(0)> is in id(x): 4538672072\n",
      "y= \n",
      "[ 3.  4.  5.]\n",
      "<NDArray 3 @cpu(0)> is in id(y): 4538673416\n",
      "z= \n",
      "[ 4.  6.  8.]\n",
      "<NDArray 3 @cpu(0)> is in id(z): 4538674648\n",
      "after nd.elemwise_add(x, y, out=z), x= \n",
      "[ 1.  2.  3.]\n",
      "<NDArray 3 @cpu(0)> is in id(x): 4538672072\n",
      "after nd.elemwise_add(x, y, out=z), y= \n",
      "[ 3.  4.  5.]\n",
      "<NDArray 3 @cpu(0)> is in id(y): 4538673416\n",
      "after nd.elemwise_add(x, y, out=z), z= \n",
      "[ 4.  6.  8.]\n",
      "<NDArray 3 @cpu(0)> is in id(z): 4538674648\n"
     ]
    }
   ],
   "source": [
    "print('x=', x, 'is in id(x):', id(x))\n",
    "print('y=', y, 'is in id(y):', id(y))\n",
    "print('z=', z, 'is in id(z):', id(z))\n",
    "nd.elemwise_add(x, y, out=z)\n",
    "print('after nd.elemwise_add(x, y, out=z), x=', x, 'is in id(x):', id(x))\n",
    "print('after nd.elemwise_add(x, y, out=z), y=', y, 'is in id(y):', id(y))\n",
    "print('after nd.elemwise_add(x, y, out=z), z=', z, 'is in id(z):', id(z))"
   ]
  },
  {
   "cell_type": "markdown",
   "metadata": {},
   "source": [
    "If we're not planning to re-use ``x``, then we can assign the result to ``x`` itself. There are two ways to do this in MXNet. \n",
    "1. By using slice notation x[:] = x op y\n",
    "2. By using the op-equals operators like `+=`"
   ]
  },
  {
   "cell_type": "code",
   "execution_count": 22,
   "metadata": {},
   "outputs": [
    {
     "name": "stdout",
     "output_type": "stream",
     "text": [
      "x= \n",
      "[ 1.  2.  3.]\n",
      "<NDArray 3 @cpu(0)> is in id(x): 4538672072\n",
      "x= \n",
      "[ 4.  6.  8.]\n",
      "<NDArray 3 @cpu(0)> is in id(x): 4538672072\n"
     ]
    }
   ],
   "source": [
    "print('x=', x, 'is in id(x):', id(x))\n",
    "x += y\n",
    "print('x=', x, 'is in id(x):', id(x))"
   ]
  },
  {
   "cell_type": "markdown",
   "metadata": {},
   "source": [
    "## Slicing\n",
    "MXNet NDArrays support slicing in all the ridiculous ways you might imagine accessing your data. For a quick review:\n",
    "\n",
    "```\n",
    "a[start:end] # items start through end-1\n",
    "a[start:]    # items start through the rest of the array\n",
    "a[:end]      # items from the beginning through end-1\n",
    "a[:]         # a copy of the whole array\n",
    "```\n",
    "\n",
    "Here's an example of reading the second and third rows from `x`."
   ]
  },
  {
   "cell_type": "code",
   "execution_count": 23,
   "metadata": {},
   "outputs": [
    {
     "name": "stdout",
     "output_type": "stream",
     "text": [
      "1D complete array, x= \n",
      "[ 1.  2.  3.]\n",
      "<NDArray 3 @cpu(0)>\n",
      "slicing the 2nd and 3rd elements, s= \n",
      "[ 2.  3.]\n",
      "<NDArray 2 @cpu(0)>\n",
      "multi-D complete array, x= \n",
      "[[  1.   2.   3.   4.]\n",
      " [  5.   6.   7.   8.]\n",
      " [  9.  10.  11.  12.]]\n",
      "<NDArray 3x4 @cpu(0)>\n",
      "slicing the 2nd and 3rd elements, s= \n",
      "[[  5.   6.   7.   8.]\n",
      " [  9.  10.  11.  12.]]\n",
      "<NDArray 2x4 @cpu(0)>\n"
     ]
    }
   ],
   "source": [
    "x = nd.array([1, 2, 3])\n",
    "print('1D complete array, x=', x)\n",
    "s = x[1:3]\n",
    "print('slicing the 2nd and 3rd elements, s=', s)\n",
    "x = nd.array([[1, 2, 3, 4], [5, 6, 7, 8], [9, 10, 11, 12]])\n",
    "print('multi-D complete array, x=', x)\n",
    "s = x[1:3]\n",
    "print('slicing the 2nd and 3rd elements, s=', s)"
   ]
  },
  {
   "cell_type": "markdown",
   "metadata": {},
   "source": [
    "Now let's try writing to a specific element."
   ]
  },
  {
   "cell_type": "code",
   "execution_count": 24,
   "metadata": {},
   "outputs": [
    {
     "name": "stdout",
     "output_type": "stream",
     "text": [
      "original x, x= \n",
      "[[  1.   2.   3.   4.]\n",
      " [  5.   6.   7.   8.]\n",
      " [  9.  10.  11.  12.]]\n",
      "<NDArray 3x4 @cpu(0)>\n",
      "replaced entire row with x[2] = 9.0, x= \n",
      "[[ 1.  2.  3.  4.]\n",
      " [ 5.  6.  7.  8.]\n",
      " [ 9.  9.  9.  9.]]\n",
      "<NDArray 3x4 @cpu(0)>\n",
      "replaced specific element with x[0,2] = 9.0, x= \n",
      "[[ 1.  2.  9.  4.]\n",
      " [ 5.  6.  7.  8.]\n",
      " [ 9.  9.  9.  9.]]\n",
      "<NDArray 3x4 @cpu(0)>\n",
      "replaced range of elements with x[1:2,1:3] = 5.0, x= \n",
      "[[ 1.  2.  9.  4.]\n",
      " [ 5.  5.  5.  8.]\n",
      " [ 9.  9.  9.  9.]]\n",
      "<NDArray 3x4 @cpu(0)>\n"
     ]
    }
   ],
   "source": [
    "print('original x, x=', x)\n",
    "x[2] = 9.0\n",
    "print('replaced entire row with x[2] = 9.0, x=', x)\n",
    "x[0,2] = 9.0\n",
    "print('replaced specific element with x[0,2] = 9.0, x=', x)\n",
    "x[1:2,1:3] = 5.0\n",
    "print('replaced range of elements with x[1:2,1:3] = 5.0, x=', x)"
   ]
  },
  {
   "cell_type": "markdown",
   "metadata": {},
   "source": [
    "Multi-dimensional slicing is also supported."
   ]
  },
  {
   "cell_type": "code",
   "execution_count": 33,
   "metadata": {},
   "outputs": [
    {
     "name": "stdout",
     "output_type": "stream",
     "text": [
      "original x, x= \n",
      "[[  1.   2.   3.   4.]\n",
      " [  5.   6.   7.   8.]\n",
      " [  9.  10.  11.  12.]]\n",
      "<NDArray 3x4 @cpu(0)>\n",
      "plucking specific elements with x[1:2,1:3] \n",
      "[[ 6.  7.]]\n",
      "<NDArray 1x2 @cpu(0)>\n",
      "first column with x[:,:1] \n",
      "[[ 1.]\n",
      " [ 5.]\n",
      " [ 9.]]\n",
      "<NDArray 3x1 @cpu(0)>\n",
      "first row with x[:1,:] \n",
      "[[ 1.  2.  3.  4.]]\n",
      "<NDArray 1x4 @cpu(0)>\n",
      "last column with x[:,3:] \n",
      "[[  4.]\n",
      " [  8.]\n",
      " [ 12.]]\n",
      "<NDArray 3x1 @cpu(0)>\n",
      "last row with x[2:,:] \n",
      "[[  9.  10.  11.  12.]]\n",
      "<NDArray 1x4 @cpu(0)>\n"
     ]
    }
   ],
   "source": [
    "x = nd.array([[1, 2, 3, 4], [5, 6, 7, 8], [9, 10, 11, 12]])\n",
    "print('original x, x=', x)\n",
    "s = x[1:2,1:3]\n",
    "print('plucking specific elements with x[1:2,1:3]', s)\n",
    "s = x[:,:1]\n",
    "print('first column with x[:,:1]', s)\n",
    "s = x[:1,:]\n",
    "print('first row with x[:1,:]', s)\n",
    "s = x[:,3:]\n",
    "print('last column with x[:,3:]', s)\n",
    "s = x[2:,:]\n",
    "print('last row with x[2:,:]', s)"
   ]
  },
  {
   "cell_type": "markdown",
   "metadata": {},
   "source": [
    "## Shape Manipulation\n",
    "Using `reshape` we can change the array's shape. For example, say you want to take a series  of numbers like 0 to 23 and turn that into a multi-dimensional array."
   ]
  },
  {
   "cell_type": "code",
   "execution_count": 39,
   "metadata": {},
   "outputs": [
    {
     "name": "stdout",
     "output_type": "stream",
     "text": [
      "a simple array: \n",
      "[  0.   1.   2.   3.   4.   5.   6.   7.   8.   9.  10.  11.  12.  13.  14.\n",
      "  15.  16.  17.  18.  19.  20.  21.  22.  23.]\n",
      "<NDArray 24 @cpu(0)>\n",
      "converted to a multi-dimensional array \n",
      "[[[  0.   1.   2.   3.]\n",
      "  [  4.   5.   6.   7.]\n",
      "  [  8.   9.  10.  11.]]\n",
      "\n",
      " [[ 12.  13.  14.  15.]\n",
      "  [ 16.  17.  18.  19.]\n",
      "  [ 20.  21.  22.  23.]]]\n",
      "<NDArray 2x3x4 @cpu(0)>\n"
     ]
    }
   ],
   "source": [
    "x = mx.nd.array(np.arange(24))\n",
    "print('a simple array:', x)\n",
    "b = a.reshape((2,3,4))\n",
    "print('converted to a multi-dimensional array', b)"
   ]
  },
  {
   "cell_type": "markdown",
   "metadata": {},
   "source": [
    " `concat` is another useful function that we'll use to stack arrays."
   ]
  },
  {
   "cell_type": "code",
   "execution_count": 46,
   "metadata": {},
   "outputs": [
    {
     "name": "stdout",
     "output_type": "stream",
     "text": [
      "x= \n",
      "[[ 1.  1.  1.]\n",
      " [ 1.  1.  1.]]\n",
      "<NDArray 2x3 @cpu(0)>\n",
      "y= \n",
      "[[ 2.  2.  2.]\n",
      " [ 2.  2.  2.]]\n",
      "<NDArray 2x3 @cpu(0)>\n",
      "z = mx.nd.concat(x, y) \n",
      "[[ 1.  1.  1.  2.  2.  2.]\n",
      " [ 1.  1.  1.  2.  2.  2.]]\n",
      "<NDArray 2x6 @cpu(0)>\n"
     ]
    }
   ],
   "source": [
    "x = mx.nd.ones((2,3))\n",
    "print('x=', x)\n",
    "y = mx.nd.ones((2,3))*2\n",
    "print('y=', y)\n",
    "z = mx.nd.concat(x, y)\n",
    "print('z = mx.nd.concat(x, y)', z)"
   ]
  },
  {
   "cell_type": "markdown",
   "metadata": {},
   "source": [
    "## Broadcasting\n",
    "\n",
    "You might wonder, what happens if you add a vector `y` to a matrix `X`? These operations, where we compose a low dimensional array `y` with a high-dimensional array `X` invoke a functionality called broadcasting. First we'll introduce `.arange` which is useful for filling out an array with evenly spaced data. Then we can take the low-dimensional array and duplicate it along any axis with dimension $1$ to match the shape of the high dimensional array. \n",
    "Consider the following example.\n",
    "\n",
    "Comment (visible to demonstrate with font): dimension one(1)? Or L(elle) or l(lil elle) or I(eye) or... ? We don't even use the notation later, so did it need to be introduced here? \n",
    "\n",
    "<!--Also, if you use a shape like (3,3) you lose some of the impact and miss some errors if people play with the values. Better to have a distinct shape so that it is more obvious what is happening and what can break.-->"
   ]
  },
  {
   "cell_type": "code",
   "execution_count": 47,
   "metadata": {},
   "outputs": [
    {
     "name": "stdout",
     "output_type": "stream",
     "text": [
      "x =  \n",
      "[[ 1.  1.  1.  1.  1.  1.]\n",
      " [ 1.  1.  1.  1.  1.  1.]\n",
      " [ 1.  1.  1.  1.  1.  1.]]\n",
      "<NDArray 3x6 @cpu(0)>\n",
      "y =  \n",
      "[ 0.  1.  2.  3.  4.  5.]\n",
      "<NDArray 6 @cpu(0)>\n",
      "x + y =  \n",
      "[[ 1.  2.  3.  4.  5.  6.]\n",
      " [ 1.  2.  3.  4.  5.  6.]\n",
      " [ 1.  2.  3.  4.  5.  6.]]\n",
      "<NDArray 3x6 @cpu(0)>\n"
     ]
    }
   ],
   "source": [
    "x = nd.ones(shape=(3,6))\n",
    "print('x = ', x)\n",
    "y = nd.arange(6)\n",
    "print('y = ', y)\n",
    "print('x + y = ', x + y)"
   ]
  },
  {
   "cell_type": "markdown",
   "metadata": {},
   "source": [
    "While `y` is initially of shape (6), \n",
    "MXNet infers its shape to be (1,6), \n",
    "and then broadcasts along the rows to form a (3,6) matrix). \n",
    "You might wonder, why did MXNet choose to interpret `y` as a (1,6) matrix and not (6,1). \n",
    "That's because broadcasting prefers to duplicate along the left most axis. \n",
    "We can alter this behavior by explicitly giving `y` a 2D shape using `.reshape`. You can also chain `.arange` and `.reshape` to do this in one step."
   ]
  },
  {
   "cell_type": "code",
   "execution_count": 48,
   "metadata": {},
   "outputs": [
    {
     "name": "stdout",
     "output_type": "stream",
     "text": [
      "y =  \n",
      "[[ 0.]\n",
      " [ 1.]\n",
      " [ 2.]]\n",
      "<NDArray 3x1 @cpu(0)>\n",
      "x + y =  \n",
      "[[ 1.  1.  1.  1.  1.  1.]\n",
      " [ 2.  2.  2.  2.  2.  2.]\n",
      " [ 3.  3.  3.  3.  3.  3.]]\n",
      "<NDArray 3x6 @cpu(0)>\n",
      "y =  \n",
      "[[ 0.]\n",
      " [ 1.]\n",
      " [ 2.]]\n",
      "<NDArray 3x1 @cpu(0)>\n"
     ]
    }
   ],
   "source": [
    "y = y.reshape((3,1))\n",
    "print('y = ', y)\n",
    "print('x + y = ', x+y)\n",
    "y = nd.arange(6).reshape((3,1))\n",
    "print('y = ', y)"
   ]
  },
  {
   "cell_type": "markdown",
   "metadata": {},
   "source": [
    "## Converting from MXNet NDArray to NumPy\n",
    "Converting MXNet NDArrays to and from NumPy is easy. The converted arrays do not share memory."
   ]
  },
  {
   "cell_type": "code",
   "execution_count": 28,
   "metadata": {},
   "outputs": [
    {
     "data": {
      "text/plain": [
       "numpy.ndarray"
      ]
     },
     "execution_count": 28,
     "metadata": {},
     "output_type": "execute_result"
    }
   ],
   "source": [
    "a = x.asnumpy()\n",
    "type(a)"
   ]
  },
  {
   "cell_type": "code",
   "execution_count": 29,
   "metadata": {},
   "outputs": [
    {
     "name": "stdout",
     "output_type": "stream",
     "text": [
      "id(a)= 4538685840 id(x)= 4538674312 id(y)= 4538671344\n"
     ]
    }
   ],
   "source": [
    "y = nd.array(a) \n",
    "print('id(a)=', id(a), 'id(x)=', id(x), 'id(y)=', id(y))"
   ]
  },
  {
   "cell_type": "markdown",
   "metadata": {},
   "source": [
    "## Managing context\n",
    "You might have noticed that MXNet NDArray looks almost identical to NumPy. \n",
    "But there are a few crucial differences.\n",
    "One of the key features that differentiates MXNet from NumPy is its support for diverse hardware devices.\n",
    "\n",
    "In MXNet, every array has a context. \n",
    "One context could be the CPU. \n",
    "Other contexts might be various GPUs. \n",
    "Things can get even hairier when we deploy jobs across multiple servers. \n",
    "By assigning arrays to contexts intelligently, \n",
    "we can minimize the time spent transferring data between devices. \n",
    "For example, when training neural networks on a server with a GPU, \n",
    "we typically prefer for the model's parameters to live on the GPU. \n",
    "If you have a GPU, let's try initializing an array on the first GPU.\n",
    "Otherwise, use `ctx=mx.cpu()` in place of `ctx=gpu(0)`."
   ]
  },
  {
   "cell_type": "code",
   "execution_count": null,
   "metadata": {},
   "outputs": [],
   "source": [
    "from mxnet import gpu\n",
    "z = nd.ones(shape=(3,3), ctx=gpu(0))\n",
    "print(z)"
   ]
  },
  {
   "cell_type": "markdown",
   "metadata": {},
   "source": [
    "Given an NDArray on a given context, we can copy it to another context by using the copyto() method. Skip this if you don't have a GPU at the moment."
   ]
  },
  {
   "cell_type": "code",
   "execution_count": null,
   "metadata": {},
   "outputs": [],
   "source": [
    "x_gpu = x.copyto(gpu(0))\n",
    "print(x_gpu)"
   ]
  },
  {
   "cell_type": "markdown",
   "metadata": {},
   "source": [
    "The result of an operator will have the same context as the inputs."
   ]
  },
  {
   "cell_type": "code",
   "execution_count": null,
   "metadata": {},
   "outputs": [],
   "source": [
    "x_gpu + z"
   ]
  },
  {
   "cell_type": "markdown",
   "metadata": {},
   "source": [
    "If we ever want to check the context of an NDArray programmaticaly, \n",
    "we can just call its `.context` attribute."
   ]
  },
  {
   "cell_type": "code",
   "execution_count": null,
   "metadata": {},
   "outputs": [],
   "source": [
    "print(x_gpu.context)\n",
    "print(z.context)"
   ]
  },
  {
   "cell_type": "markdown",
   "metadata": {},
   "source": [
    "In order to perform an operation on two ndarrays `x1` and `x2`,\n",
    "we need them both to live on the same context. \n",
    "And if they don't already, \n",
    "we may need to explicitly copy data from one context to another.\n",
    "You might think that's annoying. \n",
    "After all, we just demonstrated that MXNet knows where each NDArray lives. \n",
    "So why can't MXNet just automatically copy `x1` to `x2.context` and then add them?\n",
    "\n",
    "In short, people use MXNet to do machine learning\n",
    "because they expect it to be fast. \n",
    "But transferring variables between different contexts is slow. \n",
    "So we want you to be 100% certian that you want to do something slow \n",
    "before we let you do it. \n",
    "If MXNet just did the copy automatically without crashing\n",
    "then you might not realize that you had written some slow code.\n",
    "We don't want you to spend your entire life on StackOverflow,\n",
    "so we make some mistakes impossible. \n",
    "\n",
    "![](../img/operator-context.png)"
   ]
  },
  {
   "cell_type": "markdown",
   "metadata": {},
   "source": [
    "## Watch out!\n",
    "\n",
    "Imagine that your variable z already lives on your second GPU (`gpu(0)`). What happens if we call `z.copyto(gpu(0))`? It will make a copy and allocate new memory, even though that variable already lives on the desired device!\n",
    "<!-- wouldn't the second GPU be gpu(1)? -->\n",
    "\n",
    "There are times where depending on the environment our code is running in,\n",
    "two variables may already live on the same device.\n",
    "So we only want to make a copy if the variables currently lives on different contexts. \n",
    "In these cases, we can call `as_in_context()`. \n",
    "If the variable is already the specified context then this is a no-op."
   ]
  },
  {
   "cell_type": "code",
   "execution_count": null,
   "metadata": {},
   "outputs": [],
   "source": [
    "print('id(z):', id(z))\n",
    "z = z.copyto(gpu(0))\n",
    "print('id(z):', id(z))\n",
    "z = z.as_in_context(gpu(0))\n",
    "print('id(z):', id(z))\n",
    "print(z)"
   ]
  },
  {
   "cell_type": "markdown",
   "metadata": {},
   "source": [
    "## Next\n",
    "[Linear algebra](../chapter01_crashcourse/linear-algebra.ipynb)"
   ]
  },
  {
   "cell_type": "markdown",
   "metadata": {
    "collapsed": true
   },
   "source": [
    "For whinges or inquiries, [open an issue on  GitHub.](https://github.com/zackchase/mxnet-the-straight-dope)"
   ]
  }
 ],
 "metadata": {
  "kernelspec": {
   "display_name": "Python 3",
   "language": "python",
   "name": "python3"
  },
  "language_info": {
   "codemirror_mode": {
    "name": "ipython",
    "version": 3
   },
   "file_extension": ".py",
   "mimetype": "text/x-python",
   "name": "python",
   "nbconvert_exporter": "python",
   "pygments_lexer": "ipython3",
   "version": "3.6.2"
  }
 },
 "nbformat": 4,
 "nbformat_minor": 2
}
